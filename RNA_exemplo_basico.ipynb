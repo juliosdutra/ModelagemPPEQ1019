{
  "nbformat": 4,
  "nbformat_minor": 0,
  "metadata": {
    "colab": {
      "provenance": [],
      "authorship_tag": "ABX9TyOQbt5Xp6wC6Ooq9MzLG0B4",
      "include_colab_link": true
    },
    "kernelspec": {
      "name": "python3",
      "display_name": "Python 3"
    },
    "language_info": {
      "name": "python"
    }
  },
  "cells": [
    {
      "cell_type": "markdown",
      "metadata": {
        "id": "view-in-github",
        "colab_type": "text"
      },
      "source": [
        "<a href=\"https://colab.research.google.com/github/juliosdutra/ModelagemPPEQ1019/blob/main/RNA_exemplo_basico.ipynb\" target=\"_parent\"><img src=\"https://colab.research.google.com/assets/colab-badge.svg\" alt=\"Open In Colab\"/></a>"
      ]
    },
    {
      "cell_type": "code",
      "execution_count": 1,
      "metadata": {
        "id": "x-AsWkz4fObr",
        "outputId": "92ab6811-ce23-471b-861a-c6618fa5257c",
        "colab": {
          "base_uri": "https://localhost:8080/"
        }
      },
      "outputs": [
        {
          "metadata": {
            "tags": null
          },
          "name": "stdout",
          "output_type": "stream",
          "text": [
            "\n",
            " Começando com pesos sinápticos randômicos:\n",
            "[[-1.76884571]\n",
            " [ 0.07555227]\n",
            " [-1.1306297 ]]\n",
            "\n",
            " Pesos sinápticos após o treino: \n",
            "[[ 14.17621625]\n",
            " [ 14.17621625]\n",
            " [-21.34854948]]\n",
            "\n",
            "Saídas após o treino: \n",
            "[[5.35110568e-10]\n",
            " [9.99092476e-01]\n",
            " [7.66941611e-04]\n",
            " [7.66941611e-04]]\n",
            "\n",
            " Saída estimada: \n",
            "[[0.99909248]]\n"
          ]
        }
      ],
      "source": [
        "\"\"\"\n",
        "Created on Wed Nov  4 10:57:20 2020\n",
        "\n",
        "@author: Julio Dutra\n",
        "\"\"\"\n",
        "\n",
        "import numpy as  np\n",
        "import matplotlib.pyplot as plt\n",
        "\n",
        "#%% função de ativação e sua derivada\n",
        "def logistica(x):\n",
        "    return 1/(1+np.exp(-x))\n",
        "\n",
        "def der_logistica(x):\n",
        "    return x*(1-x)\n",
        "\n",
        "\n",
        "#%% dados de treino\n",
        "u_treino = np.array([[0,0,1],\n",
        "                     [1,1,1],\n",
        "                     [1,0,1],\n",
        "                     [0,1,1]])\n",
        "\n",
        "y_treino = np.array([[0,1,0,0]]).T\n",
        "\n",
        "\n",
        "#%% Ajuste da rede\n",
        "\n",
        "np.random.seed(2020)\n",
        "n_treino, n_w =  u_treino.shape\n",
        "\n",
        "weights = np.random.randn(n_w,1)\n",
        "print('\\n Começando com pesos sinápticos randômicos:')\n",
        "print(weights)\n",
        "\n",
        "tol = 1e-6\n",
        "criterio = 100\n",
        "n = 1\n",
        "taxa = 5\n",
        "Fobj = []\n",
        "\n",
        "while criterio > tol:\n",
        "\n",
        "    camada_entrada = u_treino\n",
        "\n",
        "    y_hat = logistica( np.dot(camada_entrada,weights) )\n",
        "\n",
        "    erro = y_treino - y_hat\n",
        "\n",
        "    ajuste = -erro * der_logistica(y_hat)\n",
        "\n",
        "    weights = weights - taxa*np.dot(camada_entrada.T,ajuste)\n",
        "\n",
        "    criterio = 1/2*np.sum(erro**2)\n",
        "    n = n + 1\n",
        "    Fobj.append(criterio)\n",
        "\n",
        "\n",
        "print('\\n Pesos sinápticos após o treino: ')\n",
        "print(weights)\n",
        "\n",
        "print('\\nSaídas após o treino: ')\n",
        "print(y_hat)\n",
        "\n",
        "#%% teste da rede\n",
        "u_teste = np.array([[1,1,1]])\n",
        "y_teste = logistica( np.dot(u_teste,weights) )\n",
        "print('\\n Saída estimada: ')\n",
        "print(y_teste)"
      ]
    }
  ]
}